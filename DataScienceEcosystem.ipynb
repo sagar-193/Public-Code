{
 "cells": [
  {
   "cell_type": "markdown",
   "id": "9819c51a-5410-46cc-95c6-84466664294e",
   "metadata": {},
   "source": [
    "Data Science Tools and Ecosystem"
   ]
  },
  {
   "cell_type": "markdown",
   "id": "ca09fbde-b8f6-4d5c-9d87-f952bc1f9526",
   "metadata": {},
   "source": [
    "In this notebook, Data Science tools and Ecosystem are summarized"
   ]
  },
  {
   "cell_type": "markdown",
   "id": "0d9af978-2fe4-4d41-abf6-57d65ed7ac93",
   "metadata": {},
   "source": [
    "**Objectives:**\n",
    "\n",
    "- Understand basic arithmetic operations in Python.\n",
    "- Convert units (e.g., minutes to hours).\n",
    "- Learn to create and format Markdown cells.\n",
    "- Explore popular open-source data science tools.\n",
    "- Gain familiarity with Jupyter Notebook functionalities.\n",
    "- list of popular languages for Data Science: Python, R, SQL."
   ]
  },
  {
   "cell_type": "markdown",
   "id": "85835c5c-fec2-4338-8fbd-a5a522dc3435",
   "metadata": {},
   "source": [
    "Some of the popular languages that Data Scientists use are:\n",
    "1. Python\n",
    "2. R\n",
    "3. SQL"
   ]
  },
  {
   "cell_type": "markdown",
   "id": "b058c84f-9d2e-459d-a3e4-aca913b03c91",
   "metadata": {},
   "source": [
    "| Data Science Tools    |\n",
    "|-----------------------|\n",
    "| Jupyter Notebook      |\n",
    "| RStudio               |\n",
    "| Spyder                |\n"
   ]
  },
  {
   "cell_type": "markdown",
   "id": "b6c22bbb-b0fe-4377-af02-7791faaf2996",
   "metadata": {},
   "source": [
    "Some of the commonly used libraries used by Data Scientists include:\n",
    "1. Numpy\n",
    "2. Pandas\n",
    "3. Scikit-learn\n",
    "4. Matpoltlib"
   ]
  },
  {
   "cell_type": "markdown",
   "id": "cdbc12c8-16c9-42d9-96a9-2f3205286fd2",
   "metadata": {},
   "source": [
    "### Below are a few examples of evaluating arithmetic expressions in Python."
   ]
  },
  {
   "cell_type": "code",
   "execution_count": 1,
   "id": "41ae912c-52ef-440f-871b-59ee9ce068b5",
   "metadata": {},
   "outputs": [
    {
     "data": {
      "text/plain": [
       "17"
      ]
     },
     "execution_count": 1,
     "metadata": {},
     "output_type": "execute_result"
    }
   ],
   "source": [
    "# This is a simple arithmetic expression to multiply then add integers.\n",
    "(3*4)+5"
   ]
  },
  {
   "cell_type": "code",
   "execution_count": 2,
   "id": "0de221f0-796b-4ba6-ada8-f706e935e5fa",
   "metadata": {},
   "outputs": [
    {
     "data": {
      "text/plain": [
       "3.3333333333333335"
      ]
     },
     "execution_count": 2,
     "metadata": {},
     "output_type": "execute_result"
    }
   ],
   "source": [
    "# This will convert 200 minutes to hours by diving by 60\n",
    "200/60"
   ]
  },
  {
   "cell_type": "markdown",
   "id": "c3860c95-26da-49fd-a985-eed64b9448e7",
   "metadata": {},
   "source": [
    "## Author\n",
    "Sagar S"
   ]
  }
 ],
 "metadata": {
  "kernelspec": {
   "display_name": "Python 3 (ipykernel)",
   "language": "python",
   "name": "python3"
  },
  "language_info": {
   "codemirror_mode": {
    "name": "ipython",
    "version": 3
   },
   "file_extension": ".py",
   "mimetype": "text/x-python",
   "name": "python",
   "nbconvert_exporter": "python",
   "pygments_lexer": "ipython3",
   "version": "3.9.13"
  }
 },
 "nbformat": 4,
 "nbformat_minor": 5
}
